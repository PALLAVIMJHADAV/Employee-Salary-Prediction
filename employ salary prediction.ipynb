{
 "cells": [
  {
   "cell_type": "code",
   "execution_count": null,
   "id": "1f38079e-8140-4d1d-a102-e134229f2334",
   "metadata": {},
   "outputs": [],
   "source": [
    "#Importing the Required Libraries"
   ]
  },
  {
   "cell_type": "code",
   "execution_count": null,
   "id": "9cd242ec-bb09-41ef-9cbe-fb08152cdbf9",
   "metadata": {},
   "outputs": [],
   "source": [
    "import pandas as pd\n",
    "import numpy as np\n",
    "import matplotlib.pyplot as plt\n",
    "import seaborn as sns\n",
    "import missingno as msno\n",
    "import plotly.express as px\n",
    "\n",
    "import warnings\n",
    "warnings.filterwarnings('ignore')\n",
    "\n",
    "import folium\n",
    "from folium.plugins import HeatMap"
   ]
  },
  {
   "cell_type": "code",
   "execution_count": null,
   "id": "52a422c0-1e66-4988-b41c-14eb8e6a578f",
   "metadata": {},
   "outputs": [],
   "source": [
    "!pip install matplotlib"
   ]
  },
  {
   "cell_type": "code",
   "execution_count": null,
   "id": "e4802353-6c3a-41e8-a12a-1c8f1a53384d",
   "metadata": {},
   "outputs": [],
   "source": [
    "!pip install missingno\n"
   ]
  },
  {
   "cell_type": "code",
   "execution_count": null,
   "id": "8bb6ccbd-7d03-4776-8375-458dd89f9c2c",
   "metadata": {},
   "outputs": [],
   "source": [
    "!pip install folium\n"
   ]
  },
  {
   "cell_type": "code",
   "execution_count": null,
   "id": "9dd21e22-391c-4be9-8aee-4a35d98c8c25",
   "metadata": {},
   "outputs": [],
   "source": [
    "#loading the dataset"
   ]
  },
  {
   "cell_type": "code",
   "execution_count": null,
   "id": "4e48ca26-0d4f-4610-97d1-b21a206ea80d",
   "metadata": {},
   "outputs": [],
   "source": [
    "df=pd.read_csv('data.csv')\n",
    "df.head(10)"
   ]
  },
  {
   "cell_type": "code",
   "execution_count": null,
   "id": "5389db1c-31a0-4674-ac3b-56df7201f445",
   "metadata": {},
   "outputs": [],
   "source": [
    "# Checking for null values.\n",
    "df.isnull().sum()"
   ]
  },
  {
   "cell_type": "code",
   "execution_count": null,
   "id": "e3220726-03ec-4ea0-a53f-621fd467cf5a",
   "metadata": {},
   "outputs": [],
   "source": [
    "# Data Type of each column:\n",
    "df.info()"
   ]
  },
  {
   "cell_type": "code",
   "execution_count": null,
   "id": "745f4db0-a75c-4ad1-8661-880cf76f7170",
   "metadata": {},
   "outputs": [],
   "source": [
    "df.describe()"
   ]
  },
  {
   "cell_type": "code",
   "execution_count": null,
   "id": "a060b990-2c89-481f-abd3-c5761a2358fb",
   "metadata": {},
   "outputs": [],
   "source": [
    "df=df.drop(['Name'],axis=1)"
   ]
  },
  {
   "cell_type": "code",
   "execution_count": null,
   "id": "092e3b04-b343-4d90-807d-5ef60cbcf5c8",
   "metadata": {},
   "outputs": [],
   "source": [
    "df.head()"
   ]
  },
  {
   "cell_type": "code",
   "execution_count": null,
   "id": "02c7b2bf-0c9b-4ef2-b17a-2ae26ac56191",
   "metadata": {},
   "outputs": [],
   "source": [
    "# Shape of the dataset\n",
    "df.shape"
   ]
  },
  {
   "cell_type": "code",
   "execution_count": null,
   "id": "6f11d5a2-10ae-40e9-8b1f-c174ab879811",
   "metadata": {},
   "outputs": [],
   "source": [
    "# Defining a function for making kde plot\n",
    "def kde_plot(data):\n",
    "    sns.kdeplot(x=df[data], shade=True)\n",
    "    plt.gcf().set_size_inches(6,8)\n",
    "    plt.show()"
   ]
  },
  {
   "cell_type": "code",
   "execution_count": null,
   "id": "35f55492-ff67-4245-97f7-df6f51731fb7",
   "metadata": {},
   "outputs": [],
   "source": [
    "# Density of age\n",
    "kde_plot('Age')"
   ]
  },
  {
   "cell_type": "code",
   "execution_count": null,
   "id": "73baa365-5ae8-44cb-9c6c-39aa9af65b3c",
   "metadata": {},
   "outputs": [],
   "source": [
    "# Density of Projects Completed\n",
    "kde_plot('Projects Completed')"
   ]
  },
  {
   "cell_type": "code",
   "execution_count": null,
   "id": "8816577c-08bf-405a-8eb8-ea2d27c1a881",
   "metadata": {},
   "outputs": [],
   "source": [
    "# Density of Productivity\n",
    "kde_plot('Productivity (%)')"
   ]
  },
  {
   "cell_type": "code",
   "execution_count": null,
   "id": "f22524fc-29d9-426f-a99c-259f18c5afc5",
   "metadata": {},
   "outputs": [],
   "source": [
    "#Total Number of People from each Gender"
   ]
  },
  {
   "cell_type": "code",
   "execution_count": null,
   "id": "1d838acd-847b-420f-bf74-8e1a65dd3abe",
   "metadata": {},
   "outputs": [],
   "source": [
    "\n",
    "gender = df['Gender'].value_counts().reset_index()\n",
    "gender.columns = ['SEX', 'Number']\n",
    "gender"
   ]
  },
  {
   "cell_type": "code",
   "execution_count": null,
   "id": "020c5b99-47ee-4651-ad0f-758bc6ae1bbf",
   "metadata": {},
   "outputs": [],
   "source": [
    "# Bar Plot\n",
    "px.bar(gender,x='SEX',y='Number',color='SEX')"
   ]
  },
  {
   "cell_type": "code",
   "execution_count": null,
   "id": "ef4d04ea-970c-48c3-8da3-ad4c15d2712b",
   "metadata": {},
   "outputs": [],
   "source": [
    "#total salary earned by each gender"
   ]
  },
  {
   "cell_type": "code",
   "execution_count": null,
   "id": "e4dc02ce-88da-42ab-8527-d9c0596a4de8",
   "metadata": {},
   "outputs": [],
   "source": [
    "# Toatal salary earned by males and females\n",
    "Total_Salary = df.groupby('Gender').sum()['Salary'].reset_index()\n",
    "\n",
    "Total_Salary.columns = ['SEX', 'Salary']\n",
    "Total_Salary"
   ]
  },
  {
   "cell_type": "code",
   "execution_count": null,
   "id": "eed4fdd0-1e27-489e-9632-8eba995b116f",
   "metadata": {},
   "outputs": [],
   "source": [
    "# Bar Plot \n",
    "px.bar(Total_Salary,x='SEX',y='Salary',color='SEX')"
   ]
  },
  {
   "cell_type": "code",
   "execution_count": null,
   "id": "4ff76f69-8708-467e-aa45-e8d04a636efa",
   "metadata": {},
   "outputs": [],
   "source": [
    "#average salary earned by each gender"
   ]
  },
  {
   "cell_type": "code",
   "execution_count": null,
   "id": "fc084f54-9b2b-4f81-8378-fc7f0aa7534d",
   "metadata": {},
   "outputs": [],
   "source": [
    "# Mean salary earned by males and females\n",
    "Mean_Salary = df.groupby('Gender')['Salary'].mean().reset_index()\n",
    "\n",
    "Mean_Salary.columns = ['SEX', 'Salary']\n",
    "Mean_Salary\n",
    "\n"
   ]
  },
  {
   "cell_type": "code",
   "execution_count": null,
   "id": "4b61f4c2-3ad1-4c0d-ab5b-7604b72ff0a4",
   "metadata": {},
   "outputs": [],
   "source": [
    "# Bar Plot\n",
    "px.bar(Mean_Salary,x='SEX',y='Salary',color='SEX',template = 'plotly_dark')"
   ]
  },
  {
   "cell_type": "code",
   "execution_count": null,
   "id": "a577a31a-e02e-4f09-9af1-fac140c9e396",
   "metadata": {},
   "outputs": [],
   "source": [
    "#Project completed v/s salary"
   ]
  },
  {
   "cell_type": "code",
   "execution_count": null,
   "id": "94462906-2c0d-452c-8121-f6c25a6b8c24",
   "metadata": {},
   "outputs": [],
   "source": [
    "px.scatter(df,x='Projects Completed',y='Salary',color='Gender')"
   ]
  },
  {
   "cell_type": "code",
   "execution_count": null,
   "id": "a02f6f2e-5ffd-47d3-9f8a-3ad9964e8a9a",
   "metadata": {},
   "outputs": [],
   "source": [
    "#productivity v/s salary"
   ]
  },
  {
   "cell_type": "code",
   "execution_count": null,
   "id": "d991ac82-6bc8-41c6-846d-db07b5a18a60",
   "metadata": {},
   "outputs": [],
   "source": [
    "# Productivity V/S Salary on basis of Gender\n",
    "px.scatter(df,x='Productivity (%)',y='Salary',color='Gender')"
   ]
  },
  {
   "cell_type": "code",
   "execution_count": null,
   "id": "da5ff206-cb31-44e6-b47d-83d837868ff6",
   "metadata": {},
   "outputs": [],
   "source": [
    "# Satisfaction Rate V/S Salary"
   ]
  },
  {
   "cell_type": "code",
   "execution_count": null,
   "id": "3fb66f90-eb87-4c3a-a1fc-015474fb2af4",
   "metadata": {},
   "outputs": [],
   "source": [
    "# Satisfaction Rate V/S Salary on basis of Gender\n",
    "px.scatter(df,x='Satisfaction Rate (%)',y='Salary',color='Gender')"
   ]
  },
  {
   "cell_type": "code",
   "execution_count": null,
   "id": "795740fb-aeb4-4965-8c92-a4f2c0c3d2dd",
   "metadata": {},
   "outputs": [],
   "source": [
    "# Feedback Score V/S Salary"
   ]
  },
  {
   "cell_type": "code",
   "execution_count": null,
   "id": "54adb150-ad29-4108-a436-e2e0e15a18e2",
   "metadata": {},
   "outputs": [],
   "source": [
    "# Feedback Score V/S Salary on basis of Gender\n",
    "px.scatter(df,x='Feedback Score',y='Salary',color='Gender')"
   ]
  },
  {
   "cell_type": "code",
   "execution_count": null,
   "id": "08088676-18c6-4b68-a7ad-3cb60dd200a7",
   "metadata": {},
   "outputs": [],
   "source": [
    "#finding the top positions"
   ]
  },
  {
   "cell_type": "code",
   "execution_count": null,
   "id": "327f01d2-4716-414e-9c66-b6c011acd174",
   "metadata": {},
   "outputs": [],
   "source": [
    "df.groupby('Position')['Salary'].mean().plot(kind='pie',autopct='%0.2f%%')"
   ]
  },
  {
   "cell_type": "code",
   "execution_count": null,
   "id": "7edb7bdb-534c-4a2b-8206-b065d67a4b8f",
   "metadata": {},
   "outputs": [],
   "source": [
    "jobs = df.groupby('Position').sum()['Salary'].reset_index()\n",
    "top6_jobs = jobs.nlargest(6, 'Salary')\n",
    "fig = px.bar(top6_jobs, x='Position', y='Salary', color='Position', color_discrete_sequence=px.colors.sequential.Viridis)\n",
    "fig.update_layout(title_text='Total Salary of Top 6 Jobs', xaxis_title='Positions', yaxis_title='Salary')\n",
    "fig.show()"
   ]
  },
  {
   "cell_type": "code",
   "execution_count": null,
   "id": "e659647d-56c9-431e-add1-fce9bf8921e8",
   "metadata": {},
   "outputs": [],
   "source": [
    "jobs = df.groupby('Position')['Salary'].mean().reset_index()\n",
    "top6_jobs = jobs.nlargest(6, 'Salary')\n",
    "fig = px.bar(top6_jobs, x='Position', y='Salary', color='Position', color_discrete_sequence=px.colors.sequential.Viridis)\n",
    "fig.update_layout(title_text='AVG. Salary of Top 6 Jobs', xaxis_title='Positions', yaxis_title='Salary')\n",
    "fig.show()"
   ]
  },
  {
   "cell_type": "code",
   "execution_count": null,
   "id": "4abeff24-1d6b-4200-bf71-7235c763c6df",
   "metadata": {},
   "outputs": [],
   "source": [
    "#Number of People at different positions"
   ]
  },
  {
   "cell_type": "code",
   "execution_count": null,
   "id": "614aca12-5fa1-49ad-b95e-e2e7a6e9ef46",
   "metadata": {},
   "outputs": [],
   "source": [
    "count = df['Position'].value_counts().reset_index()\n",
    "count.columns=['Position','Number']\n",
    "count"
   ]
  },
  {
   "cell_type": "code",
   "execution_count": null,
   "id": "a73737aa-c525-4eca-8cf5-cc7f3e00069c",
   "metadata": {},
   "outputs": [],
   "source": [
    "px.bar(count,x='Position',y='Number',color='Position')"
   ]
  },
  {
   "cell_type": "code",
   "execution_count": null,
   "id": "ef594fc5-d0d1-4dda-8ae4-56e2acdf3283",
   "metadata": {},
   "outputs": [],
   "source": [
    "#analysis of males"
   ]
  },
  {
   "cell_type": "code",
   "execution_count": null,
   "id": "5b3e2954-494e-4ce4-ad9a-7a342e3c68bd",
   "metadata": {},
   "outputs": [],
   "source": [
    "data=df[df['Gender']=='Male']\n",
    "data.head()"
   ]
  },
  {
   "cell_type": "code",
   "execution_count": null,
   "id": "f940b5a5-2e03-4831-8e14-cd7d6af6f072",
   "metadata": {},
   "outputs": [],
   "source": [
    "jobs = data.groupby('Position')['Salary'].sum().reset_index()\n",
    "top10_jobs = jobs.nlargest(10, 'Salary')\n",
    "fig = px.bar(top10_jobs, x='Position', y='Salary', color='Position', color_discrete_sequence=px.colors.sequential.Viridis)\n",
    "fig.update_layout(title_text='Total Salary of Top 10 Jobs for Males', xaxis_title='Positions', yaxis_title='Salary')\n",
    "fig.show()"
   ]
  },
  {
   "cell_type": "code",
   "execution_count": null,
   "id": "802bf59d-cfdf-4f16-877b-b0ea19ce8531",
   "metadata": {},
   "outputs": [],
   "source": [
    "jobs = data.groupby('Position')['Salary'].mean().reset_index()\n",
    "top10_jobs = jobs.nlargest(10, 'Salary')\n",
    "fig = px.bar(top10_jobs, x='Position', y='Salary', color='Position', color_discrete_sequence=px.colors.sequential.Viridis)\n",
    "fig.update_layout(title_text='AVG. Salary of Top 10 Jobs for Males', xaxis_title='Positions', yaxis_title='Salary')\n",
    "fig.show()"
   ]
  },
  {
   "cell_type": "code",
   "execution_count": null,
   "id": "317a9571-f243-4993-8a90-54619197c137",
   "metadata": {},
   "outputs": [],
   "source": [
    "count = data['Position'].value_counts().reset_index()\n",
    "count.columns=['Position','Number']\n",
    "count"
   ]
  },
  {
   "cell_type": "code",
   "execution_count": null,
   "id": "240089b9-805f-4090-9973-3be4f2f7b381",
   "metadata": {},
   "outputs": [],
   "source": [
    "px.bar(count,x='Position',y='Number',color='Position')"
   ]
  },
  {
   "cell_type": "code",
   "execution_count": null,
   "id": "c77691e3-9700-4a23-9300-2ae8c9b01e4f",
   "metadata": {},
   "outputs": [],
   "source": [
    "#analysis of females"
   ]
  },
  {
   "cell_type": "code",
   "execution_count": null,
   "id": "8db0bdb2-a347-4768-b2f7-f2842fd528ce",
   "metadata": {},
   "outputs": [],
   "source": [
    "data=df[df['Gender']=='Female']\n",
    "data.head()"
   ]
  },
  {
   "cell_type": "code",
   "execution_count": null,
   "id": "610807af-5fbb-400e-ab04-5b99b5ee2f57",
   "metadata": {},
   "outputs": [],
   "source": [
    "jobs = data.groupby('Position')['Salary'].sum().reset_index()\n",
    "top10_jobs = jobs.nlargest(10, 'Salary')\n",
    "fig = px.bar(top10_jobs, x='Position', y='Salary', color='Position', color_discrete_sequence=px.colors.sequential.Viridis,template = 'plotly_dark')\n",
    "fig.update_layout(title_text='Total Salary of Top 10 Jobs for Females', xaxis_title='Positions', yaxis_title='Salary')\n",
    "fig.show()"
   ]
  },
  {
   "cell_type": "code",
   "execution_count": null,
   "id": "d9e10c09-a027-44b8-ba6b-964b29f5e947",
   "metadata": {},
   "outputs": [],
   "source": [
    "jobs = data.groupby('Position')['Salary'].mean().reset_index()\n",
    "top10_jobs = jobs.nlargest(10, 'Salary')\n",
    "fig = px.bar(top10_jobs, x='Position', y='Salary', color='Position', color_discrete_sequence=px.colors.sequential.Viridis,template = 'plotly_dark')\n",
    "fig.update_layout(title_text='AVG. Salary of Top 10 Jobs for Females', xaxis_title='Positions', yaxis_title='Salary')\n",
    "fig.show()"
   ]
  },
  {
   "cell_type": "code",
   "execution_count": null,
   "id": "b4e71b97-3171-4ecf-ac57-63e3a367acda",
   "metadata": {},
   "outputs": [],
   "source": [
    "count = data['Position'].value_counts().reset_index()\n",
    "count.columns=['Position','Number']\n",
    "count"
   ]
  },
  {
   "cell_type": "code",
   "execution_count": null,
   "id": "3b775bf1-c9b2-477b-bb48-fbdf7ca80382",
   "metadata": {},
   "outputs": [],
   "source": [
    "px.bar(count,x='Position',y='Number',color='Position',template = 'plotly_dark')"
   ]
  },
  {
   "cell_type": "code",
   "execution_count": null,
   "id": "d61a877f-4d91-48c6-b22e-c0a17ac7b00c",
   "metadata": {},
   "outputs": [],
   "source": [
    "#finding top departments"
   ]
  },
  {
   "cell_type": "code",
   "execution_count": null,
   "id": "adc0dc0e-3415-4f69-8a0f-6a59a43cb193",
   "metadata": {},
   "outputs": [],
   "source": [
    "df.groupby('Department')['Salary'].mean().plot(kind='pie',autopct='%0.2f%%')"
   ]
  },
  {
   "cell_type": "code",
   "execution_count": null,
   "id": "e98a98f0-5e1e-413c-922b-672a5b10c1da",
   "metadata": {},
   "outputs": [],
   "source": [
    "jobs = df.groupby('Department')['Salary'].sum().reset_index()\n",
    "fig = px.bar(jobs, x='Department', y='Salary', color='Department', color_discrete_sequence=px.colors.sequential.Viridis)\n",
    "fig.update_layout(title_text='Total Salary of Top Department', xaxis_title='Department', yaxis_title='Salary')\n",
    "fig.show()"
   ]
  },
  {
   "cell_type": "code",
   "execution_count": null,
   "id": "084c43f7-4d6a-4f5c-96cc-79d542a6fd54",
   "metadata": {},
   "outputs": [],
   "source": [
    "jobs = df.groupby('Department')['Salary'].mean().reset_index()\n",
    "top10_jobs = jobs.nlargest(10, 'Salary')\n",
    "fig = px.bar(top10_jobs, x='Department', y='Salary', color='Department', color_discrete_sequence=px.colors.sequential.Viridis)\n",
    "fig.update_layout(title_text='AVG. Salary of Top 10 Department', xaxis_title='Department', yaxis_title='Salary')\n",
    "fig.show()"
   ]
  },
  {
   "cell_type": "code",
   "execution_count": null,
   "id": "058b7c26-98b4-4b25-9bf5-a1b8692a14c9",
   "metadata": {},
   "outputs": [],
   "source": [
    "count = df['Department'].value_counts().reset_index()\n",
    "count.columns=['Department','Number']\n",
    "count"
   ]
  },
  {
   "cell_type": "code",
   "execution_count": null,
   "id": "a1982bc1-65b9-4756-8630-3dba2d018841",
   "metadata": {},
   "outputs": [],
   "source": [
    "px.bar(count,x='Department',y='Number',color='Department')"
   ]
  },
  {
   "cell_type": "code",
   "execution_count": null,
   "id": "4764ff9d-44d7-49c6-94c2-b66f39056d0f",
   "metadata": {},
   "outputs": [],
   "source": [
    "#Analysis of Males for different Deaprtment"
   ]
  },
  {
   "cell_type": "code",
   "execution_count": null,
   "id": "db9f40f9-c2a7-451b-93cd-fff5876b3002",
   "metadata": {},
   "outputs": [],
   "source": [
    "data=df[df['Gender']=='Male']\n",
    "data.head()"
   ]
  },
  {
   "cell_type": "code",
   "execution_count": null,
   "id": "897483bb-e6b6-4f8e-865e-a715c51a320a",
   "metadata": {},
   "outputs": [],
   "source": [
    "jobs = data.groupby('Department')['Salary'].sum().reset_index()\n",
    "top10_jobs = jobs.nlargest(10, 'Salary')\n",
    "fig = px.bar(top10_jobs, x='Department', y='Salary', color='Department', color_discrete_sequence=px.colors.sequential.Viridis)\n",
    "fig.update_layout(title_text='Total Salary of Top 10 Department for Males', xaxis_title='Department', yaxis_title='Salary')\n",
    "fig.show()"
   ]
  },
  {
   "cell_type": "code",
   "execution_count": null,
   "id": "9344772c-2a5b-4d73-bab5-2582c33c1e1b",
   "metadata": {},
   "outputs": [],
   "source": [
    "jobs = data.groupby('Department')['Salary'].mean().reset_index()\n",
    "top10_jobs = jobs.nlargest(5, 'Salary')\n",
    "fig = px.bar(top10_jobs, x='Department', y='Salary', color='Department', color_discrete_sequence=px.colors.sequential.Viridis)\n",
    "fig.update_layout(title_text='AVG. Salary of Top 5 Department for Males', xaxis_title='Department', yaxis_title='Salary')\n",
    "fig.show()"
   ]
  },
  {
   "cell_type": "code",
   "execution_count": null,
   "id": "88cff013-2928-4d64-9df0-05a76e42829c",
   "metadata": {},
   "outputs": [],
   "source": [
    "count = data['Department'].value_counts().reset_index()\n",
    "count.columns=['Department','Number']\n",
    "count\n"
   ]
  },
  {
   "cell_type": "code",
   "execution_count": null,
   "id": "07b584a7-5cf7-417d-b588-8909fe75f856",
   "metadata": {},
   "outputs": [],
   "source": [
    "px.bar(count,x='Department',y='Number',color='Department')"
   ]
  },
  {
   "cell_type": "code",
   "execution_count": null,
   "id": "3da39aa2-1f2d-42b9-86ce-5fbd87bcc82f",
   "metadata": {},
   "outputs": [],
   "source": [
    "#Analysis of females for different Deaprtment"
   ]
  },
  {
   "cell_type": "code",
   "execution_count": null,
   "id": "0171142e-aac1-4b5b-b6e1-31fa5e98d8d9",
   "metadata": {},
   "outputs": [],
   "source": [
    "data=df[df['Gender']=='Female']\n",
    "data.head()"
   ]
  },
  {
   "cell_type": "code",
   "execution_count": null,
   "id": "dbbffcb1-8f79-45cc-9bd0-f58140b94f4f",
   "metadata": {},
   "outputs": [],
   "source": [
    "jobs = data.groupby('Department')['Salary'].sum().reset_index()\n",
    "top5_jobs = jobs.nlargest(5, 'Salary')\n",
    "fig = px.bar(top5_jobs, x='Department', y='Salary', color='Department', color_discrete_sequence=px.colors.sequential.Viridis,template = 'plotly_dark')\n",
    "fig.update_layout(title_text='Total Salary of Top 5 Department for Females', xaxis_title='Department', yaxis_title='Salary')\n",
    "fig.show()"
   ]
  },
  {
   "cell_type": "code",
   "execution_count": null,
   "id": "ae5823ec-ce8c-46c4-b514-d84114d7f56b",
   "metadata": {},
   "outputs": [],
   "source": [
    "jobs = data.groupby('Department')['Salary'].mean().reset_index()\n",
    "top5_jobs = jobs.nlargest(5, 'Salary')\n",
    "fig = px.bar(top5_jobs, x='Department', y='Salary', color='Department', color_discrete_sequence=px.colors.sequential.Viridis,template = 'plotly_dark')\n",
    "fig.update_layout(title_text='AVG. Salary of Top 5 Department for Females', xaxis_title='Department', yaxis_title='Salary')\n",
    "fig.show()"
   ]
  },
  {
   "cell_type": "code",
   "execution_count": null,
   "id": "98e86763-0d84-4fdc-a376-ea991466c1c6",
   "metadata": {},
   "outputs": [],
   "source": [
    "count = data['Department'].value_counts().reset_index()\n",
    "count.columns=['Department','Number']\n",
    "count"
   ]
  },
  {
   "cell_type": "code",
   "execution_count": null,
   "id": "9cd3fd35-10e4-4aef-9da0-ca52b28119a5",
   "metadata": {},
   "outputs": [],
   "source": [
    "px.bar(count,x='Department',y='Number',color='Department',template = 'plotly_dark')"
   ]
  },
  {
   "cell_type": "code",
   "execution_count": null,
   "id": "0f8c1320-a0a1-4a5f-8523-a5db3071f026",
   "metadata": {},
   "outputs": [],
   "source": [
    "#box-plots"
   ]
  },
  {
   "cell_type": "code",
   "execution_count": null,
   "id": "1ea405fa-54ed-4c00-98ce-e2e25e061979",
   "metadata": {},
   "outputs": [],
   "source": [
    "df.head()"
   ]
  },
  {
   "cell_type": "code",
   "execution_count": null,
   "id": "ea7dba16-a2f6-447f-b256-16dde260cfde",
   "metadata": {},
   "outputs": [],
   "source": [
    "px.box(df,x='Department',y='Salary',color='Gender',template = 'plotly_dark')"
   ]
  },
  {
   "cell_type": "code",
   "execution_count": null,
   "id": "a388e04b-3918-43b8-863a-5b97d25ed308",
   "metadata": {},
   "outputs": [],
   "source": [
    "px.box(df,x='Position',y='Salary',color='Gender',template = 'plotly_dark')"
   ]
  },
  {
   "cell_type": "code",
   "execution_count": null,
   "id": "3e1f79fb-2571-4666-855e-0842d7cc0761",
   "metadata": {},
   "outputs": [],
   "source": [
    "px.box(df,x='Position',y='Salary',color='Department',template = 'plotly_dark')"
   ]
  },
  {
   "cell_type": "code",
   "execution_count": null,
   "id": "b2a641b2-741b-49d1-b836-9aa680721a82",
   "metadata": {},
   "outputs": [],
   "source": [
    "pd.crosstab(df['Department'],df['Position'],values=df['Salary'],aggfunc='mean')"
   ]
  },
  {
   "cell_type": "code",
   "execution_count": null,
   "id": "df6d5ff0-efb1-4c1f-ade1-2005eaf51915",
   "metadata": {},
   "outputs": [],
   "source": [
    "YOJ=[]\n",
    "for i in df['Joining Date'].str.split('-'):\n",
    "    if int(i[1])<22:\n",
    "        YOJ.append('20'+str(i[1]))\n",
    "    else:\n",
    "        YOJ.append('19'+str(i[1]))\n",
    "        "
   ]
  },
  {
   "cell_type": "code",
   "execution_count": null,
   "id": "bf54abd8-cb21-4202-95f0-104616b73e87",
   "metadata": {},
   "outputs": [],
   "source": [
    "df['Joining Date'] = pd.Series(YOJ)\n",
    "df.head()"
   ]
  },
  {
   "cell_type": "code",
   "execution_count": null,
   "id": "848ec727-d84b-4b49-919e-7c55708a4c4b",
   "metadata": {},
   "outputs": [],
   "source": [
    "count=df.groupby('Joining Date').sum()['Salary'].reset_index()\n",
    "count.columns=['Year','Total_Salary']\n",
    "count\n"
   ]
  },
  {
   "cell_type": "code",
   "execution_count": null,
   "id": "1febfc05-99c3-40c6-80f6-92c333983ed4",
   "metadata": {},
   "outputs": [],
   "source": [
    "px.line(count,x='Year',y='Total_Salary',template = 'plotly_dark')"
   ]
  },
  {
   "cell_type": "code",
   "execution_count": null,
   "id": "f1d2dfdf-6b29-46be-aa2f-e9f727753aba",
   "metadata": {},
   "outputs": [],
   "source": [
    "df.head()"
   ]
  },
  {
   "cell_type": "code",
   "execution_count": null,
   "id": "12a98acd-6fe9-484c-b0f5-0ecc689351ad",
   "metadata": {},
   "outputs": [],
   "source": [
    "df.info()"
   ]
  },
  {
   "cell_type": "code",
   "execution_count": null,
   "id": "3c5d2297-37b8-42e0-9a13-e0e6899c8853",
   "metadata": {},
   "outputs": [],
   "source": [
    "df['Joining Date'] = df['Joining Date'].astype(str).astype(int)"
   ]
  },
  {
   "cell_type": "code",
   "execution_count": null,
   "id": "8dbadf5a-c2e6-4533-896e-7506271d481e",
   "metadata": {},
   "outputs": [],
   "source": [
    "#Converting Categorical to Numerical"
   ]
  },
  {
   "cell_type": "code",
   "execution_count": null,
   "id": "6724694e-6888-4423-b462-f9522fa6b10d",
   "metadata": {},
   "outputs": [],
   "source": [
    "from sklearn import preprocessing\n",
    "label_encoder = preprocessing.LabelEncoder()"
   ]
  },
  {
   "cell_type": "code",
   "execution_count": null,
   "id": "8a050a9b-816f-4f50-ba5b-fac107d013d0",
   "metadata": {},
   "outputs": [],
   "source": [
    "df['Gender']= label_encoder.fit_transform(df['Gender'])\n",
    "df['Gender'].unique()"
   ]
  },
  {
   "cell_type": "code",
   "execution_count": null,
   "id": "7c29f323-2cf5-4dd7-bb09-00948f02e80a",
   "metadata": {},
   "outputs": [],
   "source": [
    "df['Department']= label_encoder.fit_transform(df['Department'])\n",
    "df['Department'].unique()"
   ]
  },
  {
   "cell_type": "code",
   "execution_count": null,
   "id": "99a1f75f-dd34-4c4d-8950-3acf9c2ab674",
   "metadata": {},
   "outputs": [],
   "source": [
    "df['Position']= label_encoder.fit_transform(df['Position'])\n",
    "df['Position'].unique()"
   ]
  },
  {
   "cell_type": "code",
   "execution_count": null,
   "id": "c9fd9e25-e627-40e7-8e85-e1140a7f5264",
   "metadata": {},
   "outputs": [],
   "source": [
    "plt.figure(figsize=(10, 8))\n",
    "sns.heatmap(df.corr(), annot=True)\n",
    "plt.title(\"Correlation Heatmap\")\n",
    "plt.show()"
   ]
  },
  {
   "cell_type": "code",
   "execution_count": null,
   "id": "99cbc9d1-f718-4435-be73-ba8bcc3448ce",
   "metadata": {},
   "outputs": [],
   "source": [
    "#Using StandardScaler"
   ]
  },
  {
   "cell_type": "code",
   "execution_count": null,
   "id": "a2f5f727-e5d6-4aef-8ad8-4647eb3e0f23",
   "metadata": {},
   "outputs": [],
   "source": [
    "df.head()"
   ]
  },
  {
   "cell_type": "code",
   "execution_count": null,
   "id": "2cc5340c-d166-42a1-a5ed-0696a73cdf70",
   "metadata": {},
   "outputs": [],
   "source": [
    "from sklearn.preprocessing import StandardScaler\n",
    " \n",
    "scaler = StandardScaler()\n",
    "df[['Salary']] = scaler.fit_transform(df[['Salary']])\n"
   ]
  },
  {
   "cell_type": "code",
   "execution_count": null,
   "id": "b37071aa-addb-46e6-a158-03e566e0373f",
   "metadata": {},
   "outputs": [],
   "source": [
    "df.head()"
   ]
  },
  {
   "cell_type": "code",
   "execution_count": null,
   "id": "8ad79686-64c3-4bba-b693-4d6bbf1ed5ac",
   "metadata": {},
   "outputs": [],
   "source": [
    "from sklearn.model_selection import train_test_split\n",
    "\n",
    "X = df.drop(['Salary'], axis = 1)\n",
    "y = df['Salary']\n",
    "X_train, X_test, y_train, y_test = train_test_split(X, y, train_size = 0.8, random_state = 42)"
   ]
  },
  {
   "cell_type": "code",
   "execution_count": null,
   "id": "3fc8500f-6828-4d7c-9497-26771cf2400e",
   "metadata": {},
   "outputs": [],
   "source": [
    "print(\"X_train size:\", X_train.shape)\n",
    "print(\"X_test size:\", X_test.shape)\n",
    "print(\"y_train size:\", y_train.shape)\n",
    "print(\"y_test size:\", y_test.shape)\n"
   ]
  },
  {
   "cell_type": "code",
   "execution_count": null,
   "id": "154fc05c-48ad-492d-9498-579732015ae5",
   "metadata": {},
   "outputs": [],
   "source": [
    "from sklearn.model_selection import train_test_split\n",
    "\n",
    "# Example: x and y are your features and labels\n",
    "X_train, X_test, y_train, y_test = train_test_split(X, y, test_size=0.2, random_state=42)\n",
    "\n",
    "print(\"Training set size:\", X_train.shape[0])\n",
    "print(\"Test set size:\", X_test.shape[0])\n",
    "print(\"Total size:\", X_train.shape[0] + X_test.shape[0])\n"
   ]
  },
  {
   "cell_type": "code",
   "execution_count": null,
   "id": "738d44c4-1e14-44e9-a797-1fcb38820101",
   "metadata": {},
   "outputs": [],
   "source": [
    "X_train.head()"
   ]
  },
  {
   "cell_type": "code",
   "execution_count": null,
   "id": "8294b342-50ac-4c4c-91f7-4d068d34e0c6",
   "metadata": {},
   "outputs": [],
   "source": [
    "y_train.head()"
   ]
  },
  {
   "cell_type": "code",
   "execution_count": null,
   "id": "e999080f-aff1-4f7a-b2ad-8e917b83537b",
   "metadata": {},
   "outputs": [],
   "source": [
    "#Machine Learning Model"
   ]
  },
  {
   "cell_type": "code",
   "execution_count": null,
   "id": "27fa5dd5-045a-4728-b661-0766c10c0811",
   "metadata": {},
   "outputs": [],
   "source": [
    "from sklearn.linear_model import LinearRegression\n",
    "\n",
    "# Initialize a LinearRegression model\n",
    "model = LinearRegression()\n",
    "\n",
    "# Fit the model to the training data\n",
    "model.fit(X_train, y_train)"
   ]
  },
  {
   "cell_type": "code",
   "execution_count": null,
   "id": "0c1cb4ee-9484-41a1-a28d-0868bb547dcc",
   "metadata": {},
   "outputs": [],
   "source": [
    "from sklearn.metrics import mean_squared_error, r2_score\n",
    "\n",
    "# Use the model to make predictions on the test set\n",
    "y_pred = model.predict(X_test)"
   ]
  },
  {
   "cell_type": "code",
   "execution_count": null,
   "id": "c01bf27b-9952-48ba-9580-d57be5c9b0c0",
   "metadata": {},
   "outputs": [],
   "source": [
    "y_pred"
   ]
  },
  {
   "cell_type": "code",
   "execution_count": null,
   "id": "c8501446-a5cc-4eca-8506-20aa7d675528",
   "metadata": {},
   "outputs": [],
   "source": [
    "# Calculate the mean squared error\n",
    "mse = mean_squared_error(y_test, y_pred)\n",
    "\n",
    "# Calculate the coefficient of determination (R^2 score)\n",
    "r2 = r2_score(y_test, y_pred)\n",
    "\n",
    "mse, r2"
   ]
  },
  {
   "cell_type": "code",
   "execution_count": null,
   "id": "d21d3be8-7464-41d6-87c8-6474e2ffcc75",
   "metadata": {},
   "outputs": [],
   "source": [
    "# Scatter plot of actual vs predicted salaries\n",
    "plt.figure(figsize=(10, 6))\n",
    "sns.scatterplot(x=y_test, y=y_pred, alpha=0.6)\n",
    "plt.xlabel('Actual Salary')\n",
    "plt.ylabel('Predicted Salary')\n",
    "plt.title('Actual vs Predicted Salary')\n",
    "plt.grid(True)\n",
    "plt.show()"
   ]
  },
  {
   "cell_type": "code",
   "execution_count": null,
   "id": "9c6b4dd2-e140-43bc-aa63-e3f73bdadae3",
   "metadata": {},
   "outputs": [],
   "source": [
    "ax1 = sns.distplot(y_test, hist=False, color=\"r\", label=\"Actual Salary\")\n",
    "sns.distplot(y_pred, hist=False, color=\"b\", label=\"Fitted Values\" , ax=ax1)\n",
    "\n",
    "\n",
    "plt.title('Actual vs Fitted Values for Salary')\n",
    "\n",
    "plt.show()\n",
    "plt.close()"
   ]
  },
  {
   "cell_type": "code",
   "execution_count": null,
   "id": "961090a9-aabd-4e2c-804b-b42333691a2f",
   "metadata": {},
   "outputs": [],
   "source": [
    "#Random Forest Regressor"
   ]
  },
  {
   "cell_type": "code",
   "execution_count": null,
   "id": "e6b9162f-a6c6-4a88-a4e1-330e977849b5",
   "metadata": {},
   "outputs": [],
   "source": [
    "\n",
    "from sklearn.ensemble import RandomForestRegressor\n",
    "\n",
    "# Initialize a RandomForestRegressor\n",
    "rf_model = RandomForestRegressor(n_estimators=500, random_state=420)\n",
    "\n",
    "# Fit the model to the training data\n",
    "rf_model.fit(X_train, y_train)\n",
    "\n",
    "# Use the model to make predictions on the test set\n",
    "rf_y_pred = rf_model.predict(X_test)\n",
    "\n",
    "# Calculate the mean squared error\n",
    "rf_mse = mean_squared_error(y_test, rf_y_pred)\n",
    "\n",
    "# Calculate the coefficient of determination (R^2 score)\n",
    "rf_r2 = r2_score(y_test, rf_y_pred)\n",
    "\n",
    "rf_mse, rf_r2"
   ]
  },
  {
   "cell_type": "code",
   "execution_count": null,
   "id": "7bfcba5c-d394-43b9-98bf-99293e1d8724",
   "metadata": {},
   "outputs": [],
   "source": [
    "plt.figure(figsize=(10, 6))\n",
    "sns.scatterplot(x=y_test, y=rf_y_pred, alpha=0.6)\n",
    "plt.xlabel('Actual Salary')\n",
    "plt.ylabel('Predicted Salary')\n",
    "plt.title('Actual vs Predicted Salary (Random Forest)')\n",
    "plt.grid(True)\n",
    "plt.show()"
   ]
  },
  {
   "cell_type": "code",
   "execution_count": null,
   "id": "936384a5-70fd-4041-a4f3-0ef213b43441",
   "metadata": {},
   "outputs": [],
   "source": [
    "ax1 = sns.distplot(y_test, hist=False, color=\"r\", label=\"Actual Salary\")\n",
    "sns.distplot(rf_y_pred, hist=False, color=\"b\", label=\"Fitted Values\" , ax=ax1)\n",
    "\n",
    "\n",
    "plt.title('Actual vs Fitted Values for Salary')\n",
    "\n",
    "plt.show()\n",
    "plt.close()"
   ]
  },
  {
   "cell_type": "code",
   "execution_count": null,
   "id": "9e76005b-63c5-4560-bbad-392982dbb04f",
   "metadata": {},
   "outputs": [],
   "source": [
    "# Get feature importances from the random forest model\n",
    "importances = rf_model.feature_importances_\n",
    "\n",
    "# Create a dataframe for visualization\n",
    "importances_df = pd.DataFrame({\n",
    "    'Feature': X.columns,\n",
    "    'Importance': importances\n",
    "})\n",
    "\n",
    "# Sort the dataframe by importance\n",
    "importances_df = importances_df.sort_values(by='Importance', ascending=False)\n",
    "\n",
    "# Plot the feature importances\n",
    "plt.figure(figsize=(10, 8))\n",
    "sns.barplot(x='Importance', y='Feature', data=importances_df, palette=\"Blues_d\")\n",
    "plt.title('Feature Importances (Random Forest)')\n",
    "plt.xlabel('Importance')\n",
    "plt.ylabel('Feature')\n",
    "plt.show()"
   ]
  },
  {
   "cell_type": "code",
   "execution_count": null,
   "id": "6dd8d0d6-1761-42c1-8848-4594a6f72804",
   "metadata": {},
   "outputs": [],
   "source": [
    "#XGBoost Algorithm"
   ]
  },
  {
   "cell_type": "code",
   "execution_count": null,
   "id": "a029299d-abdf-4673-97b9-f76d7ef9375e",
   "metadata": {},
   "outputs": [],
   "source": [
    "from xgboost import XGBRegressor\n",
    "\n",
    "# Initialize a XGBRegressorr\n",
    "xg_model = XGBRegressor(n_estimators=500, random_state=42)\n",
    "\n",
    "# Fit the model to the training data\n",
    "xg_model.fit(X_train, y_train)\n",
    "\n",
    "# Use the model to make predictions on the test set\n",
    "xg_y_pred = rf_model.predict(X_test)\n",
    "\n",
    "# Calculate the mean squared error\n",
    "xg_mse = mean_squared_error(y_test, rf_y_pred)\n",
    "\n",
    "# Calculate the coefficient of determination (R^2 score)\n",
    "xg_r2 = r2_score(y_test, rf_y_pred)\n",
    "\n",
    "rf_mse, rf_r2\n"
   ]
  },
  {
   "cell_type": "code",
   "execution_count": null,
   "id": "0153d9a0-b6dd-4caa-af24-58cad7df4c41",
   "metadata": {},
   "outputs": [],
   "source": [
    "plt.figure(figsize=(10, 6))\n",
    "sns.scatterplot(x=y_test, y=xg_y_pred, alpha=0.6)\n",
    "plt.xlabel('Actual Price')\n",
    "plt.ylabel('Predicted Price')\n",
    "plt.title('Actual vs Predicted Prices ')\n",
    "plt.grid(True)\n",
    "plt.show()"
   ]
  },
  {
   "cell_type": "code",
   "execution_count": null,
   "id": "0b91ecfa-1750-4d48-8744-f61a665f6f89",
   "metadata": {},
   "outputs": [],
   "source": [
    "ax1 = sns.distplot(y_test, hist=False, color=\"r\", label=\"Actual Salary\")\n",
    "sns.distplot(xg_y_pred, hist=False, color=\"b\", label=\"Fitted Salary\" , ax=ax1)\n",
    "\n",
    "\n",
    "plt.title('Actual vs Fitted Values for Price')\n",
    "\n",
    "plt.show()\n",
    "plt.close()"
   ]
  },
  {
   "cell_type": "code",
   "execution_count": null,
   "id": "cc80415b-328d-479a-b26b-308d1a3a3a80",
   "metadata": {},
   "outputs": [],
   "source": [
    "from sklearn.tree import DecisionTreeRegressor\n",
    "from sklearn import metrics\n",
    "models = [LinearRegression(), DecisionTreeRegressor(), RandomForestRegressor(350)]\n",
    "\n",
    "results = {'Model_Name': [], 'Mean_Absolute_Error_MAE': [], 'Mean_Absolute_Percentage_Error_MAPE': [],\n",
    "            'Mean_Squared_Error_MSE': [], 'Root_Mean_Squared_Error_RMSE': [], 'R2_score': []}\n",
    "\n",
    "for model in models:\n",
    "    model.fit(X_train, y_train)\n",
    "    y_pred = model.predict(X_test)\n",
    "\n",
    "    mae = metrics.mean_absolute_error(y_test, y_pred)\n",
    "    mape = np.mean(np.abs((y_test - y_pred) / y_test)) * 100\n",
    "    mse = metrics.mean_squared_error(y_test, y_pred)\n",
    "    rmse = np.sqrt(mse)\n",
    "    r2 = metrics.r2_score(y_test, y_pred)\n",
    "\n",
    "    results['Model_Name'].append(model.__class__.__name__)\n",
    "    results['Mean_Absolute_Error_MAE'].append(mae)\n",
    "    results['Mean_Absolute_Percentage_Error_MAPE'].append(mape)\n",
    "    results['Mean_Squared_Error_MSE'].append(mse)\n",
    "    results['Root_Mean_Squared_Error_RMSE'].append(rmse)\n",
    "    results['R2_score'].append(r2)\n",
    "\n",
    "Results = pd.DataFrame(results)"
   ]
  },
  {
   "cell_type": "code",
   "execution_count": null,
   "id": "4e80c8e8-0aa8-437c-8cbe-4e24e2ad1f21",
   "metadata": {},
   "outputs": [],
   "source": [
    "Results.head()"
   ]
  },
  {
   "cell_type": "code",
   "execution_count": null,
   "id": "736cfea7-2acf-4fc3-899e-d112bd7101b9",
   "metadata": {},
   "outputs": [],
   "source": [
    "fig = px.bar(Results, x = 'Model_Name', y = 'Mean_Absolute_Error_MAE', color = 'Model_Name', color_discrete_sequence=px.colors.sequential.Viridis)\n",
    "fig.update_layout(title_text='Model Name VS MAE', xaxis_title='Model_Name', yaxis_title='MAE')\n",
    "fig.show()"
   ]
  },
  {
   "cell_type": "code",
   "execution_count": null,
   "id": "bfdc11bc-9fb4-4b92-8879-e5f01c071f25",
   "metadata": {},
   "outputs": [],
   "source": [
    "fig = px.bar(Results, x = 'Model_Name', y = 'Mean_Absolute_Percentage_Error_MAPE', color = 'Model_Name', color_discrete_sequence=px.colors.sequential.Viridis)\n",
    "fig.update_layout(title_text='Model VS MAE %', xaxis_title='Model_Name', yaxis_title='MAE %')\n",
    "fig.show()"
   ]
  },
  {
   "cell_type": "code",
   "execution_count": null,
   "id": "629f0739-73fc-43a5-b3f7-2bae33b42dae",
   "metadata": {},
   "outputs": [],
   "source": [
    "fig = px.bar(Results, x = 'Model_Name', y = 'Mean_Squared_Error_MSE', color = 'Model_Name', color_discrete_sequence=px.colors.sequential.Viridis)\n",
    "fig.update_layout(title_text='Model Name VS MSE', xaxis_title='Model_Name', yaxis_title='MSE')\n",
    "fig.show()"
   ]
  },
  {
   "cell_type": "code",
   "execution_count": null,
   "id": "5947e607-c4ba-496a-99fa-caf411b24ef6",
   "metadata": {},
   "outputs": [],
   "source": [
    "fig = px.bar(Results, x = 'Model_Name', y = 'Root_Mean_Squared_Error_RMSE', color = 'Model_Name', color_discrete_sequence=px.colors.sequential.Viridis)\n",
    "fig.update_layout(title_text='Model Name VS RMSE', xaxis_title='Model_Name', yaxis_title='RMSE')\n",
    "fig.show()"
   ]
  },
  {
   "cell_type": "code",
   "execution_count": null,
   "id": "fca8b3c4-4b6e-4f64-be54-5099108e39c7",
   "metadata": {},
   "outputs": [],
   "source": [
    "fig = px.bar(Results, x = 'Model_Name', y = 'R2_score', color = 'Model_Name', color_discrete_sequence=px.colors.sequential.Viridis)\n",
    "fig.update_layout(title_text='Model Name VS R2_score', xaxis_title='Model_Name', yaxis_title='R Squared')\n",
    "fig.show()"
   ]
  },
  {
   "cell_type": "code",
   "execution_count": null,
   "id": "b5fb58fd-5746-4584-82f8-70902bf24fa1",
   "metadata": {},
   "outputs": [],
   "source": [
    "!python create_model_files.py\n"
   ]
  },
  {
   "cell_type": "code",
   "execution_count": null,
   "id": "9a68fcd6-37fd-44e3-9f69-1ec6603c4bed",
   "metadata": {},
   "outputs": [],
   "source": [
    "!streamlit run app.py"
   ]
  },
  {
   "cell_type": "code",
   "execution_count": null,
   "id": "0b84ffc4-f141-4b4a-92d0-3e03c0f7e7df",
   "metadata": {},
   "outputs": [],
   "source": []
  }
 ],
 "metadata": {
  "kernelspec": {
   "display_name": "Python 3 (ipykernel)",
   "language": "python",
   "name": "python3"
  },
  "language_info": {
   "codemirror_mode": {
    "name": "ipython",
    "version": 3
   },
   "file_extension": ".py",
   "mimetype": "text/x-python",
   "name": "python",
   "nbconvert_exporter": "python",
   "pygments_lexer": "ipython3",
   "version": "3.12.7"
  }
 },
 "nbformat": 4,
 "nbformat_minor": 5
}
